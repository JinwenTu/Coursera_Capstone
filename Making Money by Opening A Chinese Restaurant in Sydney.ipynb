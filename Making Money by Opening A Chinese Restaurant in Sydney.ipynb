{
 "cells": [
  {
   "cell_type": "markdown",
   "metadata": {},
   "source": [
    "\n",
    "## &emsp;&emsp;&emsp;&emsp;&emsp;&emsp;&emsp;&emsp;&emsp;&emsp;&emsp;&emsp;&emsp;&emsp;&emsp;&emsp;&emsp;&emsp;&emsp;&emsp;&emsp;Capstone Project\n",
    "\n",
    "### &emsp;&emsp;&emsp;&emsp;&emsp;&emsp;&emsp;&emsp;&emsp;&emsp;&emsp;&emsp;&emsp;&emsp;&emsp;&emsp;&emsp;&emsp;&emsp;&emsp;(IBM Data Science Professional Certificate)\n",
    "\n",
    "\n",
    "\n",
    "\n",
    "        \n",
    "#   &emsp;&emsp;&emsp;&emsp;&emsp;&emsp;           Making MONEY by Opening A Chinese Restaurant in Sydney\n",
    "\n",
    "\n",
    "##          &emsp;&emsp;&emsp;&emsp;&emsp;&emsp;&emsp;&emsp;&emsp;&emsp;&emsp;&emsp;&emsp;&emsp;&emsp;  &emsp;  &emsp;&emsp;                              _By: Jinwen Tu @Sydney_\n",
    "\n",
    "###  &emsp;&emsp;&emsp;&emsp;&emsp;&emsp;&emsp;&emsp;&emsp;&emsp;&emsp;&emsp;&emsp;&emsp;&emsp;  &emsp;    &emsp; &emsp; &emsp; &emsp; &emsp; &emsp;   &emsp;&emsp;   &emsp;                                                         _July, 2019_\n",
    "<img src=\"sydney.jpg\">"
   ]
  },
  {
   "cell_type": "markdown",
   "metadata": {},
   "source": [
    "## Introduction\n",
    "\n",
    "__Sydney__ is the state capital of New South Wales and the most populous city in Australia and Oceania. Sydney is made up of 658 suburbs, 40 local government areas and 15 contiguous regions. As of June 2017, Sydney's estimated metropolitan population was 5,230,330 and is home to approximately 65% of the state's population. \n",
    "\n",
    "Despite being one of the most expensive cities in the world, the 2018 Mercer Quality of Living Survey ranks Sydney tenth in the world in terms of quality of living, making it one of the most livable cities. In addition, Sydney is one of the most attractive cities for Chinese people as tourists and residents. In 2015-16 Mainland China (not including Hong Kong or Macau) was the second largest source of immigrants to Australia behind India. At the 2016 census, Sydney was home to 44% of the Mainland China-born population of Australia, while Melbourne was home to 31%. At the 2016 census, 487,976 (or 10.8%) of the inhabitants of Sydney who nominated their ancestry nominated Chinese ancestry solely or along with another ancestry. \n",
    " \n",
    "Based on the large population of Chinese in Sydney, Chinese restaurants are very profitable and thus a wise choice for investment.\n",
    "<img src=\"yumcha.jpg\">"
   ]
  },
  {
   "cell_type": "markdown",
   "metadata": {},
   "source": [
    "## Business Problem\n",
    "\n",
    "The objective of this capstone project is therfore to provide strategic guidance to __investors__ on how to maximum the profit of opening a Chinese restaurant in Sydney, by analysing the location information as well as review information of the exsiting Chinese restaurants in all the suburbs of Syney using data science methodology and machine learning models. The guidance will include how to choose the location of the restaurant, what category of Chinese food is most popular, what features of a Chinese restaurants are most important to attract customer, etc. \n",
    "\n",
    "<img src=\"money1.jpeg\">"
   ]
  },
  {
   "cell_type": "markdown",
   "metadata": {},
   "source": [
    "## Data\n",
    "\n",
    "__To solve the problem, we will need the following data__:<br>\n",
    "\n",
    "__1. List of neighbourhood in Sydney:__<br>\n",
    "     Neighbourhood data is extracted from the Wikipedia page (https://en.wikipedia.org/wiki/List_of_Sydney_suburbs).  This defines the scope of this project which is confined to the city of Sydney, Australia;\n",
    "<img src=\"Sydney.png\">\n",
    "\n",
    "__2. Latitude and longitude coordinates of those neighbourhoods:__ <br> \n",
    "     Latitude and longitude information is extracted by using the Geocoder Python package, in order to utilize the Foursquare location data later on.\n",
    "     \n",
    "__3. Information of all the Chinese restaurants in each surbub:__<br> \n",
    "     Information including the name, address, id, score, reviews of Chinese restaurants will all be extracted from  Foursquare website by using Foursquare API. Features of the restaurants will be trained and tested for machine learning model buid-up, so that the model can provide prediction of the performance of a new Chinese restaurant based on its location and features."
   ]
  },
  {
   "cell_type": "markdown",
   "metadata": {},
   "source": [
    "## Methodology\n",
    "\n",
    "__To get information from the data, the analysis is as below__:<br>\n",
    "\n",
    "__1. Distribution of Sydney suburbs:__<br>\n",
    "\n",
    "There are 688 suburbs of Sydney, which have been extracted from the Wikipedia. By batch geocoding of addresses using the Google Geocoding API, the latitude and longtitude of the suburbs are extracted as shown in the map image. \n",
    "\n",
    "<img src=\"sydney suburbs.jpeg\">\n",
    "\n"
   ]
  },
  {
   "cell_type": "markdown",
   "metadata": {},
   "source": [
    "__2. Call Foursquare API to get venue information:__<br>\n",
    "\n",
    "By searching Restaurants in Foursquare, all the restaurants including Chinese restaurants are listed for each suburb.<br> Since the same restaurants can be extracted by different suburbs, there are duplicates in restaurant ids. To deal with it, the suburbs associated with the nearest distance to the restaurants were considered as the real suburbs, with other records removed from the dataset. The final dataset contains __358 suburbs__, __1847 restaurants__, and __503 Chinese restaurants__."
   ]
  },
  {
   "cell_type": "markdown",
   "metadata": {},
   "source": [
    "__3. Append more information from Foursquare:__<br>\n",
    "\n",
    "The information of the restaurants includes name, address, category, postcode, ID, etc. Using the IDs of the restaurants, the likes, price tiers, ratings of restaurants can be extracted. Due to the limitation of API calls, here the price and raings were only extracted from Chinese restaurants since they are our targets. <br> "
   ]
  },
  {
   "cell_type": "markdown",
   "metadata": {},
   "source": [
    "__4. Data preprocessing and exploratory analysis:__<br>\n",
    "\n",
    "Out of all the features of a restaurant, the features which can provide useful information for future machine learning are extracted including 'id', 'suburb','distance','distance_to_central', 'likes', 'price', 'rating'. <br> Since 'suburb' is a categoric value which contains many levels, it was converted to numeric values based on the total number of restaurants of the suburb ('suburb_total'), as well as the percentage of Chinese restaurants in the suburb ('suburb_percent').<br> The initial target for this project is the ratings of a restaurant, however, since the raing information is largely missed in the information extracted from Foursquare, a new feature called 'popularity' was generated based on the number of likes of a restaurant to be the target feature to indicate whether a restaurant is successful or not."
   ]
  },
  {
   "cell_type": "markdown",
   "metadata": {},
   "source": [
    "__5. Support Vector Machine (SVM):__<br>\n",
    "\n",
    "Accoding to the popularity, the restaurants are divided into 4 groups from score 1 to 4, with 4 shows the most popular restaurants. The dataset was divided for training and test. Using the reprocessed features, the popularity of a restaurant can be predicted based on the location and price.\n"
   ]
  },
  {
   "cell_type": "markdown",
   "metadata": {},
   "source": [
    "## Results and discussion<br>\n",
    "\n",
    "### 1. The top 10 suburbs  based on the total number of restaurants and number of Chinese restaurants.\n",
    "\n",
    "As shown in the figures, the top 10 suburbs associated with most restaurants are __Eastwood, Chatswood, Haymarket, Pyrmont, Harris Park, Osborne Park, Auburn, Cabramatta, and Dawes Point__, while the top 10 suburbs associated with most Chinese restaurants are __Burwood, Eastwood, Chatswood, Haymarket, Beverly Hills, Ashfield, Hurstville, Kingsford, and Cabramatta__, which does make sense to me, since the latters are suburbs with majority Chinese residents. \n",
    "<img src=\"Top 10_1.png\">\n",
    "\n",
    "<img src=\"Top 10_2.png\">"
   ]
  },
  {
   "cell_type": "markdown",
   "metadata": {},
   "source": [
    "### 2. The distance of the restaurants from the central of Sydney.\n",
    "\n",
    "As expected, majority of the restaurants are within 30km of the central of the Sydney, actually 75% of the restaurants are within __20km__ of the central of the Sydney.<br>\n",
    "\n",
    "<img src=\"Distance of restaurants from the central of Sydney.png\">\n"
   ]
  },
  {
   "cell_type": "markdown",
   "metadata": {},
   "source": [
    "### 3. The corelationship among the different features of the dataset.\n",
    "\n",
    "All the numeric features were under the corelationship investigation. As shown by the figure, the corelation between likes and popularity is the highest, which is as expected. The corelation between rating and popularity is relatively high as well, which indicates that creation of popularity as a new feature is successfully represent the rating and success of a restaurant.<br>\n",
    "\n",
    "<img src=\"Feature corelations.png\">"
   ]
  },
  {
   "cell_type": "markdown",
   "metadata": {},
   "source": [
    "### 4. SVM model.\n",
    "\n",
    "Since our target feature, popularity, was generated based on 'likes', 'likes' needs to be excluded from the independent features. In fact, it would be more powerful to use only the location and price to predict how popular a Chinese restaurant would be. To do so, the features including __'distance', 'distance_to_central', 'price', 'suburb_total'__ and __'suburb_percent'__ are used as independent features, while __'popularity'__ is the target feature as discussed before.<br>\n",
    "\n",
    "The dataset contains all the Chinese restaurants was divided into training set (80%) and test set (20%), the accuracy of the SVM model is very high, with the __Jaccard score__ as  __0.95__, and __F1-score__ as __0.93__. "
   ]
  },
  {
   "cell_type": "markdown",
   "metadata": {},
   "source": [
    "## Conclusion\n",
    "\n",
    "The pupose of this project is to provide guidance of how to open a Chinese restaurant successfully. Based on the venue information extract from the Foursquare, we can predict how popular a Chinese restaurant will be based on its location (suburb) and price tier.\n"
   ]
  },
  {
   "cell_type": "markdown",
   "metadata": {},
   "source": [
    "## Future directions\n",
    "\n",
    "1. Due to the limitation of premium calls of Foursquare API, the tips of the restaurants were very difficult to extract. If all the tips can be extracted and processed by Natural Language Processing (NLP), the guidance for opening a Chinese restaurant can be more concrete and practical;\n",
    "\n",
    "2. Based on the likes and tips provided by different Foursqure users, a recommendation system can be built to recommend the newly opened restaurants to potential customers."
   ]
  },
  {
   "cell_type": "code",
   "execution_count": null,
   "metadata": {},
   "outputs": [],
   "source": []
  }
 ],
 "metadata": {
  "kernelspec": {
   "display_name": "Python 3",
   "language": "python",
   "name": "python3"
  },
  "language_info": {
   "codemirror_mode": {
    "name": "ipython",
    "version": 3
   },
   "file_extension": ".py",
   "mimetype": "text/x-python",
   "name": "python",
   "nbconvert_exporter": "python",
   "pygments_lexer": "ipython3",
   "version": "3.6.8"
  }
 },
 "nbformat": 4,
 "nbformat_minor": 2
}
