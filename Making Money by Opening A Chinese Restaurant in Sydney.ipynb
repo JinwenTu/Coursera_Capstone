{
 "cells": [
  {
   "cell_type": "markdown",
   "metadata": {},
   "source": [
    "\n",
    "## &emsp;&emsp;&emsp;&emsp;&emsp;&emsp;&emsp;&emsp;&emsp;&emsp;&emsp;&emsp;&emsp;&emsp;&emsp;&emsp;&emsp;&emsp;&emsp;&emsp;&emsp;Capstone Project\n",
    "\n",
    "### &emsp;&emsp;&emsp;&emsp;&emsp;&emsp;&emsp;&emsp;&emsp;&emsp;&emsp;&emsp;&emsp;&emsp;&emsp;&emsp;&emsp;&emsp;&emsp;&emsp;(IBM Data Science Professional Certificate)\n",
    "\n",
    "\n",
    "\n",
    "\n",
    "        \n",
    "#   &emsp;&emsp;&emsp;&emsp;&emsp;&emsp;           Making \\\\$$$$ by Opening A Chinese Restaurant in Sydney\n",
    "\n",
    "\n",
    "##          &emsp;&emsp;&emsp;&emsp;&emsp;&emsp;&emsp;&emsp;&emsp;&emsp;&emsp;&emsp;&emsp;&emsp;&emsp;  &emsp;  &emsp;&emsp;                              _By: Jinwen Tu @Sydney_\n",
    "\n",
    "###  &emsp;&emsp;&emsp;&emsp;&emsp;&emsp;&emsp;&emsp;&emsp;&emsp;&emsp;&emsp;&emsp;&emsp;&emsp;  &emsp;    &emsp; &emsp; &emsp; &emsp; &emsp; &emsp;   &emsp;&emsp;   &emsp;                                                         _July, 2019_\n",
    "<img src=\"sydney.jpg\">"
   ]
  },
  {
   "cell_type": "markdown",
   "metadata": {},
   "source": [
    "## Introduction\n",
    "\n",
    "__Sydney__ is the state capital of New South Wales and the most populous city in Australia and Oceania. Sydney is made up of 658 suburbs, 40 local government areas and 15 contiguous regions. As of June 2017, Sydney's estimated metropolitan population was 5,230,330 and is home to approximately 65% of the state's population. \n",
    "\n",
    "Despite being one of the most expensive cities in the world, the 2018 Mercer Quality of Living Survey ranks Sydney tenth in the world in terms of quality of living, making it one of the most livable cities. In addition, Sydney is one of the most attractive cities for Chinese people as tourists and residents. In 2015-16 Mainland China (not including Hong Kong or Macau) was the second largest source of immigrants to Australia behind India. At the 2016 census, Sydney was home to 44% of the Mainland China-born population of Australia, while Melbourne was home to 31%. At the 2016 census, 487,976 (or 10.8%) of the inhabitants of Sydney who nominated their ancestry nominated Chinese ancestry solely or along with another ancestry. \n",
    " \n",
    "Based on the large population of Chinese in Sydney, Chinese restaurants are very profitable and thus a wise choice for investment.\n",
    "<img src=\"yumcha.jpg\">"
   ]
  },
  {
   "cell_type": "markdown",
   "metadata": {},
   "source": [
    "## Business Problem\n",
    "\n",
    "The objective of this capstone project is therfore to provide strategic guidance to investors on how to maximum the profit of opening a Chinese restaurant in Sydney, by analysing the location information as well as review information of the exsiting Chinese restaurants in all the suburbs of Syney using data science methodology and machine learning models. The guidance will include how to choose the location of the restaurant, what category of Chinese food is most popular, what features of a Chinese restaurants are most important to attract customer, etc. \n",
    "\n",
    "<img src=\"money1.jpeg\">"
   ]
  },
  {
   "cell_type": "markdown",
   "metadata": {},
   "source": [
    "## Data\n",
    "\n",
    "__To solve the problem, we will need the following data__:<br>\n",
    "\n",
    "__1. List of neighbourhood in Sydney:__<br>\n",
    "     Neighbourhood data is extracted from the Wikipedia page (https://en.wikipedia.org/wiki/List_of_Sydney_suburbs).  This defines the scope of this project which is confined to the city of Sydney, Australia;\n",
    "<img src=\"Sydney.png\">\n",
    "\n",
    "__2. Latitude and longitude coordinates of those neighbourhoods:__ <br> \n",
    "     Latitude and longitude information is extracted by using the Geocoder Python package, in order to utilize the Foursquare location data later on.\n",
    "     \n",
    "__3. Information of all the Chinese restaurants in each surbub:__<br> \n",
    "     Information including the name, address, id, score, reviews of Chinese restaurants will all be extracted from  Foursquare website by using Foursquare API. Features of the restaurants will be trained and tested for machine learning model buid-up, so that the model can provide prediction of the performance of a new Chinese restaurant based on its location and features."
   ]
  },
  {
   "cell_type": "code",
   "execution_count": null,
   "metadata": {},
   "outputs": [],
   "source": []
  }
 ],
 "metadata": {
  "kernelspec": {
   "display_name": "Python 3",
   "language": "python",
   "name": "python3"
  },
  "language_info": {
   "codemirror_mode": {
    "name": "ipython",
    "version": 3
   },
   "file_extension": ".py",
   "mimetype": "text/x-python",
   "name": "python",
   "nbconvert_exporter": "python",
   "pygments_lexer": "ipython3",
   "version": "3.6.8"
  }
 },
 "nbformat": 4,
 "nbformat_minor": 2
}
